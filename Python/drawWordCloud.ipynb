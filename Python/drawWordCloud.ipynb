{
 "cells": [
  {
   "cell_type": "code",
   "execution_count": null,
   "metadata": {},
   "outputs": [],
   "source": [
    "!pip install jieba "
   ]
  },
  {
   "cell_type": "code",
   "execution_count": null,
   "metadata": {},
   "outputs": [],
   "source": [
    "!pip install jieba "
   ]
  },
  {
   "cell_type": "code",
   "execution_count": null,
   "metadata": {},
   "outputs": [],
   "source": [
    "!pip install matplotlib"
   ]
  },
  {
   "cell_type": "code",
   "execution_count": null,
   "metadata": {},
   "outputs": [],
   "source": [
    "!pip install WordCloud"
   ]
  },
  {
   "cell_type": "code",
   "execution_count": null,
   "metadata": {},
   "outputs": [],
   "source": [
    "!pip install ImageColorGenerator"
   ]
  },
  {
   "cell_type": "code",
   "execution_count": null,
   "metadata": {},
   "outputs": [],
   "source": [
    "import pandas as pd\n",
    "import numpy as np\n",
    "import jieba\n",
    "import matplotlib as mpl\n",
    "import matplotlib.pyplot as plt\n",
    "%matplotlib inline\n",
    "from wordcloud import WordCloud, ImageColorGenerator # 词云包"
   ]
  },
  {
   "cell_type": "code",
   "execution_count": null,
   "metadata": {},
   "outputs": [],
   "source": [
    "comm = pd.read_csv('D:/python_test_6_data/zhanlang_comment.csv', encoding='gbk') \n",
    "comm.head()"
   ]
  },
  {
   "cell_type": "code",
   "execution_count": null,
   "metadata": {},
   "outputs": [],
   "source": [
    "# 数据的基本信息\n",
    "comm.info()"
   ]
  },
  {
   "cell_type": "code",
   "execution_count": null,
   "metadata": {},
   "outputs": [],
   "source": [
    "comm.shape"
   ]
  },
  {
   "cell_type": "code",
   "execution_count": null,
   "metadata": {},
   "outputs": [],
   "source": [
    "# 去除 Unamed 列\n",
    "comm.drop('Unnamed: 0', axis =1, inplace = True)"
   ]
  },
  {
   "cell_type": "code",
   "execution_count": null,
   "metadata": {},
   "outputs": [],
   "source": [
    "# 统计空值数量 发现不存在空值\n",
    "comm.isnull().sum()"
   ]
  },
  {
   "cell_type": "code",
   "execution_count": null,
   "metadata": {},
   "outputs": [],
   "source": [
    "# 重新命名索引值 serices结构\n",
    "comm.index = np.arange(len(comm))"
   ]
  },
  {
   "cell_type": "code",
   "execution_count": null,
   "metadata": {},
   "outputs": [],
   "source": [
    "# 导入停用词表\n",
    "stopwords = pd.read_csv('D:/python_test_6_data/stopword.txt', index_col = False, quoting = 3, sep = \"\\t\", names = ['stopword'], encoding = 'utf-8')  \n",
    "stopwords.head()"
   ]
  },
  {
   "cell_type": "code",
   "execution_count": null,
   "metadata": {},
   "outputs": [],
   "source": [
    "# 分词 将一句话分成若干个词语\n",
    "def cutDescription(x):\n",
    "    seg_lst = jieba.lcut_for_search(x, HMM = True)\n",
    "    return seg_lst"
   ]
  },
  {
   "cell_type": "code",
   "execution_count": null,
   "metadata": {},
   "outputs": [],
   "source": [
    "# 去除停用词\n",
    "def eliminateStopwords(x):\n",
    "    words = pd.DataFrame({'segment' : x})\n",
    "    keywords = words[-words['segment'].isin(stopwords['stopword'])]\n",
    "    return list(keywords['segment'])"
   ]
  },
  {
   "cell_type": "code",
   "execution_count": null,
   "metadata": {},
   "outputs": [],
   "source": [
    "# 利用pandas中的apply方法 调用预先定义的分词函数\n",
    "comm['comment_seg'] = comm['comments'].apply(cutDescription)\n",
    "comm.head()"
   ]
  },
  {
   "cell_type": "code",
   "execution_count": null,
   "metadata": {},
   "outputs": [],
   "source": [
    "# 在分完词的列表中 继续去除停用词\n",
    "comm['comment_seg_eli'] = comm['comment_seg'].apply(eliminateStopwords)\n",
    "comm.head()"
   ]
  },
  {
   "cell_type": "code",
   "execution_count": null,
   "metadata": {},
   "outputs": [],
   "source": [
    "# 经过分词 去除停用词后的所有词语放到一个列表中\n",
    "all_words = []\n",
    "for i in comm.index:\n",
    "    all_words.extend(comm.loc[i,'comment_seg_eli'])\n",
    "all_words"
   ]
  },
  {
   "cell_type": "markdown",
   "metadata": {},
   "source": [
    "#### 分析结果的词云可视化展现"
   ]
  },
  {
   "cell_type": "code",
   "execution_count": null,
   "metadata": {},
   "outputs": [],
   "source": [
    "pd.set_option('display.width', 1000)  # 设置字符显示宽度\n",
    "pd.set_option('display.max_rows', None)  # 设置显示最大\n"
   ]
  },
  {
   "cell_type": "code",
   "execution_count": null,
   "metadata": {},
   "outputs": [],
   "source": [
    "# 定义一个空的df 用来存放所有的词语\n",
    "words_df = pd.DataFrame({'all_words' : all_words})"
   ]
  },
  {
   "cell_type": "code",
   "execution_count": null,
   "metadata": {},
   "outputs": [],
   "source": [
    "# 分组聚合 统计每个词语出现的次数\n",
    "# words_stat = words_df.groupby(by = ['all_words'])['all_words'].agg(['count'])\n",
    "words_stat = words_df.groupby(by=['all_words'])['all_words'].count().to_frame('count').reset_index().sort_values(by=['count'], ascending=False)"
   ]
  },
  {
   "cell_type": "code",
   "execution_count": null,
   "metadata": {},
   "outputs": [],
   "source": [
    "# 按照出现的次数进行排序 从大到小\n",
    "words_stat = words_stat.reset_index().sort_values(by =['count'], ascending = False)"
   ]
  },
  {
   "cell_type": "code",
   "execution_count": null,
   "metadata": {},
   "outputs": [],
   "source": [
    "# 去除所有空值\n",
    "words_stat = words_stat[~words_stat.isnull().any(axis=1)]\n",
    "words_stat.head(1000)"
   ]
  },
  {
   "cell_type": "code",
   "execution_count": null,
   "metadata": {},
   "outputs": [],
   "source": [
    "# 去掉索引值为1 和 43 的行\n",
    "words_stat.drop([1,43], inplace = True)\n",
    "words_stat.head(1000)"
   ]
  },
  {
   "cell_type": "code",
   "execution_count": null,
   "metadata": {},
   "outputs": [],
   "source": [
    "# 定义作图的参数\n",
    "mpl.rc('figure', figsize = (10,5)) # 图的大小"
   ]
  },
  {
   "cell_type": "code",
   "execution_count": null,
   "metadata": {},
   "outputs": [],
   "source": [
    "# 生成一个词云对象\n",
    "wordcloud = WordCloud(font_path='D:/python_test_6_data/huakang.ttc', background_color='white', max_font_size=80)\n",
    "\n",
    "# 将出现频率排名前1000的词语统计到词语频率表中\n",
    "word_frequence = {x[1]: x[2] for x in words_stat.head(1000).values}\n",
    "\n",
    "# 生成词云\n",
    "wordcloud = wordcloud.fit_words(word_frequence)\n",
    "plt.imshow(wordcloud)\n",
    "plt.savefig('wordcloud.png')"
   ]
  },
  {
   "cell_type": "markdown",
   "metadata": {},
   "source": [
    "- 使用read_csv读取数据时，提示\"UnicodeDecodeError: 'utf-8' codec can't decode byte 0xce in position 13: invalid continuation byte\"错误，参数中增加\"encoding='gbk\" 即可。\n",
    "- 生成词云图时，出现\"ValueError: anchor not supported for multiline text\"报错，经过检查数据和查询资料，发现是由于索引为43的行，词值是\"\\n\" ，删除这行记录后即可正常运行\n",
    "- 生成的词云图，低频率的词反而尺寸大，检查代码后发现，是在排序时，错误的把索引号的列作为频率值的列统计到词语频率表中，修改后正常生成词云图。"
   ]
  },
  {
   "cell_type": "markdown",
   "metadata": {},
   "source": []
  }
 ],
 "metadata": {
  "language_info": {
   "name": "python"
  }
 },
 "nbformat": 4,
 "nbformat_minor": 2
}
